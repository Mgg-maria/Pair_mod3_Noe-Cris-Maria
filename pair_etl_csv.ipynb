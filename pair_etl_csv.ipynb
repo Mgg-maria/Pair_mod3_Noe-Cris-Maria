{
 "cells": [
  {
   "cell_type": "code",
   "execution_count": 1,
   "metadata": {},
   "outputs": [],
   "source": [
    "import pandas as pd\n"
   ]
  },
  {
   "cell_type": "code",
   "execution_count": 27,
   "metadata": {},
   "outputs": [],
   "source": [
    "df_clientes = pd.read_csv('files/clientes.csv')"
   ]
  },
  {
   "cell_type": "code",
   "execution_count": 25,
   "metadata": {},
   "outputs": [],
   "source": [
    "df_products = pd.read_csv('files/productos.csv')"
   ]
  },
  {
   "cell_type": "code",
   "execution_count": 30,
   "metadata": {},
   "outputs": [
    {
     "data": {
      "text/html": [
       "<div>\n",
       "<style scoped>\n",
       "    .dataframe tbody tr th:only-of-type {\n",
       "        vertical-align: middle;\n",
       "    }\n",
       "\n",
       "    .dataframe tbody tr th {\n",
       "        vertical-align: top;\n",
       "    }\n",
       "\n",
       "    .dataframe thead th {\n",
       "        text-align: right;\n",
       "    }\n",
       "</style>\n",
       "<table border=\"1\" class=\"dataframe\">\n",
       "  <thead>\n",
       "    <tr style=\"text-align: right;\">\n",
       "      <th></th>\n",
       "      <th>ID</th>\n",
       "      <th>Nombre_Producto</th>\n",
       "      <th>Categoría</th>\n",
       "      <th>Precio</th>\n",
       "      <th>Origen</th>\n",
       "      <th>Descripción</th>\n",
       "    </tr>\n",
       "  </thead>\n",
       "  <tbody>\n",
       "    <tr>\n",
       "      <th>0</th>\n",
       "      <td>A1</td>\n",
       "      <td>Pizza Margherita</td>\n",
       "      <td>Platos Preparados</td>\n",
       "      <td>8.99</td>\n",
       "      <td>Italia</td>\n",
       "      <td>Clásica pizza italiana con tomate;mozzarella f...</td>\n",
       "    </tr>\n",
       "    <tr>\n",
       "      <th>1</th>\n",
       "      <td>B2</td>\n",
       "      <td>Risotto de Champiñones</td>\n",
       "      <td>Platos Preparados</td>\n",
       "      <td>6.75</td>\n",
       "      <td>Italia</td>\n",
       "      <td>Risotto cremoso con champiñones frescos;una de...</td>\n",
       "    </tr>\n",
       "    <tr>\n",
       "      <th>2</th>\n",
       "      <td>C3</td>\n",
       "      <td>Tiramisú</td>\n",
       "      <td>Postres</td>\n",
       "      <td>5.49</td>\n",
       "      <td>Italia</td>\n",
       "      <td>Postre clásico italiano con capas de bizcocho ...</td>\n",
       "    </tr>\n",
       "    <tr>\n",
       "      <th>3</th>\n",
       "      <td>D4</td>\n",
       "      <td>Panettone</td>\n",
       "      <td>Repostería</td>\n",
       "      <td>10.99</td>\n",
       "      <td>Italia</td>\n",
       "      <td>Pan dulce navideño italiano con frutas confita...</td>\n",
       "    </tr>\n",
       "    <tr>\n",
       "      <th>4</th>\n",
       "      <td>E5</td>\n",
       "      <td>Orecchiette</td>\n",
       "      <td>Productos Secos</td>\n",
       "      <td>4.29</td>\n",
       "      <td>Italia</td>\n",
       "      <td>Pequeñas pastas con forma de orecchiette ideal...</td>\n",
       "    </tr>\n",
       "  </tbody>\n",
       "</table>\n",
       "</div>"
      ],
      "text/plain": [
       "   ID         Nombre_Producto          Categoría  Precio  Origen  \\\n",
       "0  A1        Pizza Margherita  Platos Preparados    8.99  Italia   \n",
       "1  B2  Risotto de Champiñones  Platos Preparados    6.75  Italia   \n",
       "2  C3                Tiramisú            Postres    5.49  Italia   \n",
       "3  D4               Panettone         Repostería   10.99  Italia   \n",
       "4  E5             Orecchiette    Productos Secos    4.29  Italia   \n",
       "\n",
       "                                         Descripción  \n",
       "0  Clásica pizza italiana con tomate;mozzarella f...  \n",
       "1  Risotto cremoso con champiñones frescos;una de...  \n",
       "2  Postre clásico italiano con capas de bizcocho ...  \n",
       "3  Pan dulce navideño italiano con frutas confita...  \n",
       "4  Pequeñas pastas con forma de orecchiette ideal...  "
      ]
     },
     "execution_count": 30,
     "metadata": {},
     "output_type": "execute_result"
    }
   ],
   "source": [
    "df_products.head()"
   ]
  },
  {
   "cell_type": "code",
   "execution_count": 42,
   "metadata": {},
   "outputs": [],
   "source": [
    "# Vamos a hacer una función que nos devuelva el precio del plato\n",
    "\n",
    "lista_productos = list(df_products[\"Nombre_Producto\"].unique())\n"
   ]
  },
  {
   "cell_type": "code",
   "execution_count": 43,
   "metadata": {},
   "outputs": [
    {
     "data": {
      "text/plain": [
       "list"
      ]
     },
     "execution_count": 43,
     "metadata": {},
     "output_type": "execute_result"
    }
   ],
   "source": [
    "type(lista_productos)"
   ]
  },
  {
   "cell_type": "code",
   "execution_count": 44,
   "metadata": {},
   "outputs": [],
   "source": [
    "lista_precios= list(df_products[\"Precio\"].unique())"
   ]
  },
  {
   "cell_type": "code",
   "execution_count": 49,
   "metadata": {},
   "outputs": [],
   "source": [
    "def precio_plato(plato):\n",
    "    if plato in lista_productos:\n",
    "        indice = lista_productos.index(plato)\n",
    "        return lista_precios[indice]\n",
    "    else:\n",
    "        return \"Producto no encontrado\""
   ]
  },
  {
   "cell_type": "code",
   "execution_count": 50,
   "metadata": {},
   "outputs": [
    {
     "data": {
      "text/plain": [
       "5.49"
      ]
     },
     "execution_count": 50,
     "metadata": {},
     "output_type": "execute_result"
    }
   ],
   "source": [
    "precio_plato(\"Tiramisú\")"
   ]
  },
  {
   "cell_type": "code",
   "execution_count": 28,
   "metadata": {},
   "outputs": [],
   "source": [
    "df_ventas= pd.read_csv('files/ventas.csv')"
   ]
  },
  {
   "cell_type": "code",
   "execution_count": 29,
   "metadata": {},
   "outputs": [
    {
     "data": {
      "text/html": [
       "<div>\n",
       "<style scoped>\n",
       "    .dataframe tbody tr th:only-of-type {\n",
       "        vertical-align: middle;\n",
       "    }\n",
       "\n",
       "    .dataframe tbody tr th {\n",
       "        vertical-align: top;\n",
       "    }\n",
       "\n",
       "    .dataframe thead th {\n",
       "        text-align: right;\n",
       "    }\n",
       "</style>\n",
       "<table border=\"1\" class=\"dataframe\">\n",
       "  <thead>\n",
       "    <tr style=\"text-align: right;\">\n",
       "      <th></th>\n",
       "      <th>ID_Cliente</th>\n",
       "      <th>ID_Producto</th>\n",
       "      <th>Fecha_Venta</th>\n",
       "      <th>Cantidad</th>\n",
       "      <th>Total</th>\n",
       "    </tr>\n",
       "  </thead>\n",
       "  <tbody>\n",
       "    <tr>\n",
       "      <th>0</th>\n",
       "      <td>723</td>\n",
       "      <td>A1</td>\n",
       "      <td>2023-11-22</td>\n",
       "      <td>2</td>\n",
       "      <td>17.98</td>\n",
       "    </tr>\n",
       "    <tr>\n",
       "      <th>1</th>\n",
       "      <td>498</td>\n",
       "      <td>C3</td>\n",
       "      <td>2023-11-21</td>\n",
       "      <td>1</td>\n",
       "      <td>5.49</td>\n",
       "    </tr>\n",
       "    <tr>\n",
       "      <th>2</th>\n",
       "      <td>121</td>\n",
       "      <td>D4</td>\n",
       "      <td>2023-11-20</td>\n",
       "      <td>3</td>\n",
       "      <td>32.97</td>\n",
       "    </tr>\n",
       "    <tr>\n",
       "      <th>3</th>\n",
       "      <td>885</td>\n",
       "      <td>L12</td>\n",
       "      <td>2023-11-19</td>\n",
       "      <td>1</td>\n",
       "      <td>6.49</td>\n",
       "    </tr>\n",
       "    <tr>\n",
       "      <th>4</th>\n",
       "      <td>347</td>\n",
       "      <td>Q17</td>\n",
       "      <td>2023-11-18</td>\n",
       "      <td>2</td>\n",
       "      <td>7.98</td>\n",
       "    </tr>\n",
       "  </tbody>\n",
       "</table>\n",
       "</div>"
      ],
      "text/plain": [
       "   ID_Cliente ID_Producto Fecha_Venta  Cantidad  Total\n",
       "0         723          A1  2023-11-22         2  17.98\n",
       "1         498          C3  2023-11-21         1   5.49\n",
       "2         121          D4  2023-11-20         3  32.97\n",
       "3         885         L12  2023-11-19         1   6.49\n",
       "4         347         Q17  2023-11-18         2   7.98"
      ]
     },
     "execution_count": 29,
     "metadata": {},
     "output_type": "execute_result"
    }
   ],
   "source": [
    "df_ventas.head()"
   ]
  }
 ],
 "metadata": {
  "kernelspec": {
   "display_name": "base",
   "language": "python",
   "name": "python3"
  },
  "language_info": {
   "codemirror_mode": {
    "name": "ipython",
    "version": 3
   },
   "file_extension": ".py",
   "mimetype": "text/x-python",
   "name": "python",
   "nbconvert_exporter": "python",
   "pygments_lexer": "ipython3",
   "version": "3.12.7"
  }
 },
 "nbformat": 4,
 "nbformat_minor": 2
}
